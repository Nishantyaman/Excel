{
 "cells": [
  {
   "cell_type": "code",
   "execution_count": 223,
   "metadata": {},
   "outputs": [],
   "source": [
    "import os\n",
    "import csv\n",
    "import pandas as pd\n",
    "import numpy"
   ]
  },
  {
   "cell_type": "code",
   "execution_count": 224,
   "metadata": {},
   "outputs": [],
   "source": [
    "os.chdir(\"D:\\Edwisor\\Fabulyst\")"
   ]
  },
  {
   "cell_type": "code",
   "execution_count": 225,
   "metadata": {},
   "outputs": [
    {
     "data": {
      "text/plain": [
       "'D:\\\\Edwisor\\\\Fabulyst'"
      ]
     },
     "execution_count": 225,
     "metadata": {},
     "output_type": "execute_result"
    }
   ],
   "source": [
    "os.getcwd()"
   ]
  },
  {
   "cell_type": "code",
   "execution_count": 226,
   "metadata": {},
   "outputs": [],
   "source": [
    "data=pd.read_csv(\"assignment-length.csv\")"
   ]
  },
  {
   "cell_type": "code",
   "execution_count": 227,
   "metadata": {},
   "outputs": [
    {
     "data": {
      "text/html": [
       "<div>\n",
       "<style scoped>\n",
       "    .dataframe tbody tr th:only-of-type {\n",
       "        vertical-align: middle;\n",
       "    }\n",
       "\n",
       "    .dataframe tbody tr th {\n",
       "        vertical-align: top;\n",
       "    }\n",
       "\n",
       "    .dataframe thead th {\n",
       "        text-align: right;\n",
       "    }\n",
       "</style>\n",
       "<table border=\"1\" class=\"dataframe\">\n",
       "  <thead>\n",
       "    <tr style=\"text-align: right;\">\n",
       "      <th></th>\n",
       "      <th>styleid</th>\n",
       "      <th>Url</th>\n",
       "      <th>len_Fabulyst</th>\n",
       "      <th>len_Myntra</th>\n",
       "      <th>correct?</th>\n",
       "      <th>analysis</th>\n",
       "    </tr>\n",
       "  </thead>\n",
       "  <tbody>\n",
       "    <tr>\n",
       "      <th>0</th>\n",
       "      <td>1549178</td>\n",
       "      <td>http://myntra.myntassets.com/assets/images/154...</td>\n",
       "      <td>Calf Length</td>\n",
       "      <td>Calf Length</td>\n",
       "      <td>True</td>\n",
       "      <td>NaN</td>\n",
       "    </tr>\n",
       "    <tr>\n",
       "      <th>1</th>\n",
       "      <td>2477324</td>\n",
       "      <td>http://myntra.myntassets.com/assets/images/247...</td>\n",
       "      <td>Calf Length</td>\n",
       "      <td>Calf Length</td>\n",
       "      <td>True</td>\n",
       "      <td>NaN</td>\n",
       "    </tr>\n",
       "    <tr>\n",
       "      <th>2</th>\n",
       "      <td>2250042</td>\n",
       "      <td>http://myntra.myntassets.com/assets/images/225...</td>\n",
       "      <td>Ankle Length</td>\n",
       "      <td>NaN</td>\n",
       "      <td>False</td>\n",
       "      <td>TN</td>\n",
       "    </tr>\n",
       "    <tr>\n",
       "      <th>3</th>\n",
       "      <td>2424392</td>\n",
       "      <td>http://myntra.myntassets.com/assets/images/242...</td>\n",
       "      <td>Calf Length</td>\n",
       "      <td>Calf Length</td>\n",
       "      <td>True</td>\n",
       "      <td>NaN</td>\n",
       "    </tr>\n",
       "    <tr>\n",
       "      <th>4</th>\n",
       "      <td>1022918</td>\n",
       "      <td>http://myntra.myntassets.com/assets/images/102...</td>\n",
       "      <td>Ankle Length</td>\n",
       "      <td>Ankle Length</td>\n",
       "      <td>True</td>\n",
       "      <td>NaN</td>\n",
       "    </tr>\n",
       "  </tbody>\n",
       "</table>\n",
       "</div>"
      ],
      "text/plain": [
       "   styleid                                                Url  len_Fabulyst  \\\n",
       "0  1549178  http://myntra.myntassets.com/assets/images/154...   Calf Length   \n",
       "1  2477324  http://myntra.myntassets.com/assets/images/247...   Calf Length   \n",
       "2  2250042  http://myntra.myntassets.com/assets/images/225...  Ankle Length   \n",
       "3  2424392  http://myntra.myntassets.com/assets/images/242...   Calf Length   \n",
       "4  1022918  http://myntra.myntassets.com/assets/images/102...  Ankle Length   \n",
       "\n",
       "     len_Myntra correct? analysis  \n",
       "0   Calf Length     True      NaN  \n",
       "1   Calf Length     True      NaN  \n",
       "2           NaN    False       TN  \n",
       "3   Calf Length     True      NaN  \n",
       "4  Ankle Length     True      NaN  "
      ]
     },
     "execution_count": 227,
     "metadata": {},
     "output_type": "execute_result"
    }
   ],
   "source": [
    "data.head()"
   ]
  },
  {
   "cell_type": "code",
   "execution_count": 228,
   "metadata": {},
   "outputs": [],
   "source": [
    "data = data.rename(columns={'correct?': 'correct'})\n"
   ]
  },
  {
   "cell_type": "code",
   "execution_count": 229,
   "metadata": {},
   "outputs": [],
   "source": [
    "tn_data=data.analysis[data['correct']== False]"
   ]
  },
  {
   "cell_type": "code",
   "execution_count": 230,
   "metadata": {},
   "outputs": [
    {
     "data": {
      "text/plain": [
       "FN       1543\n",
       "TN        909\n",
       "OOS        24\n",
       "FNDEF       6\n",
       "Name: analysis, dtype: int64"
      ]
     },
     "execution_count": 230,
     "metadata": {},
     "output_type": "execute_result"
    }
   ],
   "source": [
    "tn_data.value_counts()"
   ]
  },
  {
   "cell_type": "code",
   "execution_count": null,
   "metadata": {},
   "outputs": [],
   "source": []
  }
 ],
 "metadata": {
  "kernelspec": {
   "display_name": "Python 3",
   "language": "python",
   "name": "python3"
  },
  "language_info": {
   "codemirror_mode": {
    "name": "ipython",
    "version": 3
   },
   "file_extension": ".py",
   "mimetype": "text/x-python",
   "name": "python",
   "nbconvert_exporter": "python",
   "pygments_lexer": "ipython3",
   "version": "3.6.4"
  }
 },
 "nbformat": 4,
 "nbformat_minor": 2
}
